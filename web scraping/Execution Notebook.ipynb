{
 "cells": [
  {
   "cell_type": "markdown",
   "id": "264de283-b159-4398-900e-c2ba4fc50b18",
   "metadata": {},
   "source": [
    "Business Standard"
   ]
  },
  {
   "cell_type": "code",
   "execution_count": 2,
   "id": "65637f88-7cfe-43b1-a33b-2b80f39677d9",
   "metadata": {},
   "outputs": [
    {
     "name": "stdout",
     "output_type": "stream",
     "text": [
      "2\n",
      "2\n",
      "2\n",
      "2\n",
      "2\n",
      "3\n",
      "10\n",
      "1\n",
      "2\n",
      "2\n"
     ]
    }
   ],
   "source": [
    "import requests\n",
    "from bs4 import BeautifulSoup\n",
    "import numpy as np\n",
    "import pandas as pd\n",
    "url=\"https://www.business-standard.com/topic/tanishq\"\n",
    "news_contents=[]\n",
    "list_links=[]\n",
    "list_titles=[]\n",
    "list_dates=[]\n",
    "for i in range(1,2):\n",
    "    r1=requests.get(url)\n",
    "    coverpage=r1.content\n",
    "    soup1=BeautifulSoup(coverpage,\"html.parser\")\n",
    "    coverpage_news=soup1.find('div',class_='warp-inner').find_all('div',class_='content-main')[1].find('div',class_='row-panel').find('div',class_='row-inner').find('div',class_='row-panel').find('ul',class_='listing').find_all('li')\n",
    "    for n in np.arange(0,len(coverpage_news)):\n",
    "        link=coverpage_news[n].find('a')['href']\n",
    "        link='https://www.business-standard.com/'+link\n",
    "        title=coverpage_news[n].find('h2').find('a').get_text()\n",
    "        try:\n",
    "            time=coverpage_news[n].find_all('p')[0].get_text()\n",
    "        except:\n",
    "            print(i,n)\n",
    "        article=requests.get(link)\n",
    "        article_content=article.content\n",
    "        soup_article=BeautifulSoup(article_content,'html.parser')\n",
    "        x=soup_article.find('div',class_='warp-inner').find('div',class_='row-panel').find('div',class_='row-inner').find('span',class_='p-content').find_all('p')\n",
    "        print(len(x))\n",
    "        #x=soup_article.find('div',class_='warp-inner').find('div',class_='row-panel').find('div',class_='row-inner').find('span',class_='p-content').find_all('p')\n",
    "        list_para=[]\n",
    "        try:\n",
    "            for j in range(0,len(x)):\n",
    "                para=x[j].get_text()\n",
    "                list_para.append(para)\n",
    "            full_article=\" \".join(list_para)\n",
    "            news_contents.append(full_article)\n",
    "            list_links.append(link)\n",
    "            list_titles.append(title)\n",
    "            list_dates.append(time)\n",
    "        except:\n",
    "            print(i,n)\n",
    "df = pd.DataFrame(\n",
    "    {'Title': list_titles,\n",
    "     'Link': list_links,\n",
    "     'Timestamp':list_dates,\n",
    "     'Content':news_contents})\n",
    "with pd.ExcelWriter('articles.xlsx',\n",
    "                    mode='a') as writer:  \n",
    "    df.to_excel(writer)"
   ]
  },
  {
   "cell_type": "markdown",
   "id": "d9500d98-6fb1-4091-882d-a7a740b791dd",
   "metadata": {},
   "source": [
    "Economic Times"
   ]
  },
  {
   "cell_type": "code",
   "execution_count": 4,
   "id": "9ceffc9a-3c71-4f9b-aac7-eb8391a6aacc",
   "metadata": {},
   "outputs": [
    {
     "ename": "AttributeError",
     "evalue": "'NoneType' object has no attribute 'get_text'",
     "output_type": "error",
     "traceback": [
      "\u001b[0;31m---------------------------------------------------------------------------\u001b[0m",
      "\u001b[0;31mAttributeError\u001b[0m                            Traceback (most recent call last)",
      "\u001b[0;32m<ipython-input-4-823363e2d586>\u001b[0m in \u001b[0;36m<module>\u001b[0;34m\u001b[0m\n\u001b[1;32m     17\u001b[0m         \u001b[0mlink\u001b[0m\u001b[0;34m=\u001b[0m\u001b[0mcoverpage_news\u001b[0m\u001b[0;34m[\u001b[0m\u001b[0mn\u001b[0m\u001b[0;34m]\u001b[0m\u001b[0;34m.\u001b[0m\u001b[0mfind\u001b[0m\u001b[0;34m(\u001b[0m\u001b[0;34m'a'\u001b[0m\u001b[0;34m)\u001b[0m\u001b[0;34m[\u001b[0m\u001b[0;34m'href'\u001b[0m\u001b[0;34m]\u001b[0m\u001b[0;34m\u001b[0m\u001b[0;34m\u001b[0m\u001b[0m\n\u001b[1;32m     18\u001b[0m         \u001b[0mlink\u001b[0m\u001b[0;34m=\u001b[0m\u001b[0;34m'https://economictimes.indiatimes.com'\u001b[0m\u001b[0;34m+\u001b[0m\u001b[0mlink\u001b[0m\u001b[0;34m\u001b[0m\u001b[0;34m\u001b[0m\u001b[0m\n\u001b[0;32m---> 19\u001b[0;31m         \u001b[0mtitle\u001b[0m\u001b[0;34m=\u001b[0m\u001b[0mcoverpage_news\u001b[0m\u001b[0;34m[\u001b[0m\u001b[0mn\u001b[0m\u001b[0;34m]\u001b[0m\u001b[0;34m.\u001b[0m\u001b[0mfind\u001b[0m\u001b[0;34m(\u001b[0m\u001b[0;34m'h3'\u001b[0m\u001b[0;34m)\u001b[0m\u001b[0;34m.\u001b[0m\u001b[0mget_text\u001b[0m\u001b[0;34m(\u001b[0m\u001b[0;34m)\u001b[0m\u001b[0;34m\u001b[0m\u001b[0;34m\u001b[0m\u001b[0m\n\u001b[0m\u001b[1;32m     20\u001b[0m         \u001b[0mtime\u001b[0m\u001b[0;34m=\u001b[0m\u001b[0mcoverpage_news\u001b[0m\u001b[0;34m[\u001b[0m\u001b[0mn\u001b[0m\u001b[0;34m]\u001b[0m\u001b[0;34m.\u001b[0m\u001b[0mfind\u001b[0m\u001b[0;34m(\u001b[0m\u001b[0;34m'time'\u001b[0m\u001b[0;34m)\u001b[0m\u001b[0;34m.\u001b[0m\u001b[0mget_text\u001b[0m\u001b[0;34m(\u001b[0m\u001b[0;34m)\u001b[0m\u001b[0;34m\u001b[0m\u001b[0;34m\u001b[0m\u001b[0m\n\u001b[1;32m     21\u001b[0m         \u001b[0marticle\u001b[0m\u001b[0;34m=\u001b[0m\u001b[0mrequests\u001b[0m\u001b[0;34m.\u001b[0m\u001b[0mget\u001b[0m\u001b[0;34m(\u001b[0m\u001b[0mlink\u001b[0m\u001b[0;34m)\u001b[0m\u001b[0;34m\u001b[0m\u001b[0;34m\u001b[0m\u001b[0m\n",
      "\u001b[0;31mAttributeError\u001b[0m: 'NoneType' object has no attribute 'get_text'"
     ]
    }
   ],
   "source": [
    "import requests\n",
    "from bs4 import BeautifulSoup\n",
    "import numpy as np\n",
    "import pandas as pd\n",
    "url=\"https://economictimes.indiatimes.com/topics_all.cms?type=article,image,video&query=tanishq&curpg=\"\n",
    "news_contents=[]\n",
    "list_links=[]\n",
    "list_titles=[]\n",
    "list_dates=[]\n",
    "for i in range(1,2):\n",
    "    _url=url+str(i)\n",
    "    r1=requests.get(_url)\n",
    "    coverpage=r1.content\n",
    "    soup1=BeautifulSoup(coverpage,\"html.parser\")\n",
    "    coverpage_news=soup1.find_all('div',class_='topicstry')\n",
    "    for n in np.arange(0,15):\n",
    "        link=coverpage_news[n].find('a')['href']\n",
    "        link='https://economictimes.indiatimes.com'+link\n",
    "        title=coverpage_news[n].find('h3').get_text()\n",
    "        time=coverpage_news[n].find('time').get_text()\n",
    "        article=requests.get(link)\n",
    "        article_content=article.content\n",
    "        soup_article=BeautifulSoup(article_content,'html.parser')\n",
    "        x=soup_article.find_all('div',class_='artText')\n",
    "        try:\n",
    "            news_contents.append(x[0].get_text())\n",
    "            list_links.append(link)\n",
    "            list_titles.append(title)\n",
    "            list_dates.append(time)\n",
    "        except:\n",
    "            print(i,n)\n",
    "df = pd.DataFrame(\n",
    "    {'Title': list_titles,\n",
    "     'Link': list_links,\n",
    "     'Tiemstamp':list_dates,\n",
    "     'Content':news_contents})\n",
    "with pd.ExcelWriter('articles.xlsx',\n",
    "                    mode='a') as writer:  \n",
    "    df.to_excel(writer)"
   ]
  },
  {
   "cell_type": "code",
   "execution_count": null,
   "id": "053e8ec6-7474-4748-a3a5-85078889784e",
   "metadata": {},
   "outputs": [],
   "source": [
    "FirstPost"
   ]
  },
  {
   "cell_type": "code",
   "execution_count": 5,
   "id": "8cf47504-0872-4e68-b4cf-f974f5688815",
   "metadata": {},
   "outputs": [
    {
     "ename": "FileNotFoundError",
     "evalue": "[Errno 2] No such file or directory: 'articles_tanishq.xlsx'",
     "output_type": "error",
     "traceback": [
      "\u001b[0;31m---------------------------------------------------------------------------\u001b[0m",
      "\u001b[0;31mFileNotFoundError\u001b[0m                         Traceback (most recent call last)",
      "\u001b[0;32m<ipython-input-5-9dfbb1661c37>\u001b[0m in \u001b[0;36m<module>\u001b[0;34m\u001b[0m\n\u001b[1;32m     45\u001b[0m      'Content':news_contents})\n\u001b[1;32m     46\u001b[0m with pd.ExcelWriter('articles_tanishq.xlsx',\n\u001b[0;32m---> 47\u001b[0;31m                     mode='a') as writer:  \n\u001b[0m\u001b[1;32m     48\u001b[0m     \u001b[0mdf\u001b[0m\u001b[0;34m.\u001b[0m\u001b[0mto_excel\u001b[0m\u001b[0;34m(\u001b[0m\u001b[0mwriter\u001b[0m\u001b[0;34m)\u001b[0m\u001b[0;34m\u001b[0m\u001b[0;34m\u001b[0m\u001b[0m\n",
      "\u001b[0;32m/Library/Frameworks/Python.framework/Versions/3.7/lib/python3.7/site-packages/pandas/io/excel/_openpyxl.py\u001b[0m in \u001b[0;36m__init__\u001b[0;34m(self, path, engine, mode, storage_options, **engine_kwargs)\u001b[0m\n\u001b[1;32m     31\u001b[0m \u001b[0;34m\u001b[0m\u001b[0m\n\u001b[1;32m     32\u001b[0m         super().__init__(\n\u001b[0;32m---> 33\u001b[0;31m             \u001b[0mpath\u001b[0m\u001b[0;34m,\u001b[0m \u001b[0mmode\u001b[0m\u001b[0;34m=\u001b[0m\u001b[0mmode\u001b[0m\u001b[0;34m,\u001b[0m \u001b[0mstorage_options\u001b[0m\u001b[0;34m=\u001b[0m\u001b[0mstorage_options\u001b[0m\u001b[0;34m,\u001b[0m \u001b[0;34m**\u001b[0m\u001b[0mengine_kwargs\u001b[0m\u001b[0;34m\u001b[0m\u001b[0;34m\u001b[0m\u001b[0m\n\u001b[0m\u001b[1;32m     34\u001b[0m         )\n\u001b[1;32m     35\u001b[0m \u001b[0;34m\u001b[0m\u001b[0m\n",
      "\u001b[0;32m/Library/Frameworks/Python.framework/Versions/3.7/lib/python3.7/site-packages/pandas/io/excel/_base.py\u001b[0m in \u001b[0;36m__init__\u001b[0;34m(self, path, engine, date_format, datetime_format, mode, storage_options, **engine_kwargs)\u001b[0m\n\u001b[1;32m    809\u001b[0m         \u001b[0;32mif\u001b[0m \u001b[0;32mnot\u001b[0m \u001b[0misinstance\u001b[0m\u001b[0;34m(\u001b[0m\u001b[0mpath\u001b[0m\u001b[0;34m,\u001b[0m \u001b[0mExcelWriter\u001b[0m\u001b[0;34m)\u001b[0m\u001b[0;34m:\u001b[0m\u001b[0;34m\u001b[0m\u001b[0;34m\u001b[0m\u001b[0m\n\u001b[1;32m    810\u001b[0m             self.handles = get_handle(\n\u001b[0;32m--> 811\u001b[0;31m                 \u001b[0mpath\u001b[0m\u001b[0;34m,\u001b[0m \u001b[0mmode\u001b[0m\u001b[0;34m,\u001b[0m \u001b[0mstorage_options\u001b[0m\u001b[0;34m=\u001b[0m\u001b[0mstorage_options\u001b[0m\u001b[0;34m,\u001b[0m \u001b[0mis_text\u001b[0m\u001b[0;34m=\u001b[0m\u001b[0;32mFalse\u001b[0m\u001b[0;34m\u001b[0m\u001b[0;34m\u001b[0m\u001b[0m\n\u001b[0m\u001b[1;32m    812\u001b[0m             )\n\u001b[1;32m    813\u001b[0m         \u001b[0mself\u001b[0m\u001b[0;34m.\u001b[0m\u001b[0msheets\u001b[0m\u001b[0;34m:\u001b[0m \u001b[0mDict\u001b[0m\u001b[0;34m[\u001b[0m\u001b[0mstr\u001b[0m\u001b[0;34m,\u001b[0m \u001b[0mAny\u001b[0m\u001b[0;34m]\u001b[0m \u001b[0;34m=\u001b[0m \u001b[0;34m{\u001b[0m\u001b[0;34m}\u001b[0m\u001b[0;34m\u001b[0m\u001b[0;34m\u001b[0m\u001b[0m\n",
      "\u001b[0;32m/Library/Frameworks/Python.framework/Versions/3.7/lib/python3.7/site-packages/pandas/io/common.py\u001b[0m in \u001b[0;36mget_handle\u001b[0;34m(path_or_buf, mode, encoding, compression, memory_map, is_text, errors, storage_options)\u001b[0m\n\u001b[1;32m    649\u001b[0m         \u001b[0;32melse\u001b[0m\u001b[0;34m:\u001b[0m\u001b[0;34m\u001b[0m\u001b[0;34m\u001b[0m\u001b[0m\n\u001b[1;32m    650\u001b[0m             \u001b[0;31m# Binary mode\u001b[0m\u001b[0;34m\u001b[0m\u001b[0;34m\u001b[0m\u001b[0;34m\u001b[0m\u001b[0m\n\u001b[0;32m--> 651\u001b[0;31m             \u001b[0mhandle\u001b[0m \u001b[0;34m=\u001b[0m \u001b[0mopen\u001b[0m\u001b[0;34m(\u001b[0m\u001b[0mhandle\u001b[0m\u001b[0;34m,\u001b[0m \u001b[0mioargs\u001b[0m\u001b[0;34m.\u001b[0m\u001b[0mmode\u001b[0m\u001b[0;34m)\u001b[0m\u001b[0;34m\u001b[0m\u001b[0;34m\u001b[0m\u001b[0m\n\u001b[0m\u001b[1;32m    652\u001b[0m         \u001b[0mhandles\u001b[0m\u001b[0;34m.\u001b[0m\u001b[0mappend\u001b[0m\u001b[0;34m(\u001b[0m\u001b[0mhandle\u001b[0m\u001b[0;34m)\u001b[0m\u001b[0;34m\u001b[0m\u001b[0;34m\u001b[0m\u001b[0m\n\u001b[1;32m    653\u001b[0m \u001b[0;34m\u001b[0m\u001b[0m\n",
      "\u001b[0;31mFileNotFoundError\u001b[0m: [Errno 2] No such file or directory: 'articles_tanishq.xlsx'"
     ]
    }
   ],
   "source": [
    "import requests\n",
    "from bs4 import BeautifulSoup\n",
    "import numpy as np\n",
    "import pandas as pd\n",
    "url=\"https://www.firstpost.com/tag/tanishq\"\n",
    "news_contents=[]\n",
    "list_links=[]\n",
    "list_titles=[]\n",
    "list_dates=[]\n",
    "for i in range(1,2):\n",
    "    r1=requests.get(url)\n",
    "    coverpage=r1.content\n",
    "    soup1=BeautifulSoup(coverpage,\"html.parser\")\n",
    "    coverpage_news=soup1.find_all('div',class_='main-content')[0].find_all('div',class_='big-thumb')\n",
    "    for n in np.arange(0,len(coverpage_news)):\n",
    "        link=coverpage_news[n].find_all('a')[0]['href']\n",
    "        title=coverpage_news[n].find_all('div',class_='title-wrap')[0].find('h3').get_text()\n",
    "        article=requests.get(link)\n",
    "        article_content=article.content\n",
    "        soup_article=BeautifulSoup(article_content,'html.parser')\n",
    "        #x=soup_article.find_all('div')\n",
    "        #for p in range(0,len(x)):\n",
    "         #   try:\n",
    "          #      print(x[p]['class'])\n",
    "           # except:\n",
    "            #    print(\"No\")\n",
    "        try:\n",
    "            x=soup_article.find('div',class_='article-sect').find('div',class_='inner-copy').find_all('p')\n",
    "            time=soup_article.find('div',class_='article-sect').find('div',class_='author-info').find_all('span')[1].get_text()\n",
    "            list_paras=[]\n",
    "            for p in range(0,len(x)):\n",
    "                para=x[p].get_text()\n",
    "                list_paras.append(para)\n",
    "            full_article=\" \".join(list_paras)\n",
    "            news_contents.append(full_article)\n",
    "            list_dates.append(time)\n",
    "            list_links.append(link)\n",
    "            list_titles.append(title)\n",
    "        except:\n",
    "            print(n)\n",
    "df = pd.DataFrame(\n",
    "    {'Title': list_titles,\n",
    "     'Link': list_links,\n",
    "     'Timestamp':list_dates,\n",
    "     'Content':news_contents})\n",
    "with pd.ExcelWriter('articles_tanishq.xlsx',\n",
    "                    mode='a') as writer:  \n",
    "    df.to_excel(writer)"
   ]
  },
  {
   "cell_type": "code",
   "execution_count": null,
   "id": "02434a27-eb02-454b-8a95-638437b1c737",
   "metadata": {},
   "outputs": [],
   "source": []
  }
 ],
 "metadata": {
  "kernelspec": {
   "display_name": "Python 3",
   "language": "python",
   "name": "python3"
  },
  "language_info": {
   "codemirror_mode": {
    "name": "ipython",
    "version": 3
   },
   "file_extension": ".py",
   "mimetype": "text/x-python",
   "name": "python",
   "nbconvert_exporter": "python",
   "pygments_lexer": "ipython3",
   "version": "3.7.9"
  }
 },
 "nbformat": 4,
 "nbformat_minor": 5
}
